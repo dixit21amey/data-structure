{
  "nbformat": 4,
  "nbformat_minor": 0,
  "metadata": {
    "colab": {
      "provenance": []
    },
    "kernelspec": {
      "name": "python3",
      "display_name": "Python 3"
    },
    "language_info": {
      "name": "python"
    }
  },
  "cells": [
    {
      "cell_type": "markdown",
      "source": [
        "1.What are data structures, and why are they important?\n",
        "\n",
        "> data structures are ways to organise and store data effectively.they are important because they allow easy data access,modification and storage,making algorithms faster and more effecient."
      ],
      "metadata": {
        "id": "ylEuiOnf7TVu"
      }
    },
    {
      "cell_type": "markdown",
      "source": [
        "2.  Explain the difference between mutable and immutable data types with examples.\n",
        ">MUTABLE:\n",
        "Can be changed after creation like list,dict,etc\n",
        ">>\n",
        "IMMUTABLE:\n",
        "cannot be changed like integer, string, tuples,etc"
      ],
      "metadata": {
        "id": "EKxgBkz98meO"
      }
    },
    {
      "cell_type": "code",
      "source": [
        " #mutable:\n",
        " lis=[1,2,3]\n",
        "lis.append(4)\n",
        "lis\n"
      ],
      "metadata": {
        "colab": {
          "base_uri": "https://localhost:8080/"
        },
        "id": "TKDnSOau9rPM",
        "outputId": "5be08643-6d2d-4e07-a2f7-d466c7487ee8"
      },
      "execution_count": 10,
      "outputs": [
        {
          "output_type": "execute_result",
          "data": {
            "text/plain": [
              "[1, 2, 3, 4]"
            ]
          },
          "metadata": {},
          "execution_count": 10
        }
      ]
    },
    {
      "cell_type": "code",
      "source": [
        "#immutable:\n",
        "string=\"hello\"\n",
        "string[o]=\"h\"\n"
      ],
      "metadata": {
        "colab": {
          "base_uri": "https://localhost:8080/",
          "height": 183
        },
        "id": "AkziPJ4a-iro",
        "outputId": "40781d7c-c660-4527-a8cf-6891ef19ee34"
      },
      "execution_count": 11,
      "outputs": [
        {
          "output_type": "error",
          "ename": "NameError",
          "evalue": "name 'o' is not defined",
          "traceback": [
            "\u001b[0;31m---------------------------------------------------------------------------\u001b[0m",
            "\u001b[0;31mNameError\u001b[0m                                 Traceback (most recent call last)",
            "\u001b[0;32m/tmp/ipython-input-11-3143408114.py\u001b[0m in \u001b[0;36m<cell line: 0>\u001b[0;34m()\u001b[0m\n\u001b[1;32m      1\u001b[0m \u001b[0;31m#immutable:\u001b[0m\u001b[0;34m\u001b[0m\u001b[0;34m\u001b[0m\u001b[0m\n\u001b[1;32m      2\u001b[0m \u001b[0mstring\u001b[0m\u001b[0;34m=\u001b[0m\u001b[0;34m\"hello\"\u001b[0m\u001b[0;34m\u001b[0m\u001b[0;34m\u001b[0m\u001b[0m\n\u001b[0;32m----> 3\u001b[0;31m \u001b[0mstring\u001b[0m\u001b[0;34m[\u001b[0m\u001b[0mo\u001b[0m\u001b[0;34m]\u001b[0m\u001b[0;34m=\u001b[0m\u001b[0;34m\"h\"\u001b[0m\u001b[0;34m\u001b[0m\u001b[0;34m\u001b[0m\u001b[0m\n\u001b[0m",
            "\u001b[0;31mNameError\u001b[0m: name 'o' is not defined"
          ]
        }
      ]
    },
    {
      "cell_type": "markdown",
      "source": [
        "3. What are the main differences between lists and tuples in Python?\n",
        ">List are mutable,slower,use\n",
        "[ ]\n",
        ">>\n",
        "Tuples are immutable,faster,use( )"
      ],
      "metadata": {
        "id": "l_FIt7bj-mYQ"
      }
    },
    {
      "cell_type": "markdown",
      "source": [
        "4.Describe how dictionaries store data.\n",
        "> dictionaries store data in key value pairsusing hashing mechanism."
      ],
      "metadata": {
        "id": "P9uuQSGb_GLc"
      }
    },
    {
      "cell_type": "markdown",
      "source": [
        "5. Why might you use a set instead of a list in Python\n",
        "> sets store unique values and offer faster lookup for existence.\n"
      ],
      "metadata": {
        "id": "4Z-3dwyQ_jWe"
      }
    },
    {
      "cell_type": "markdown",
      "source": [
        "6. What is a string in Python, and how is it different from a list?\n",
        "> string are immuttable, used for text while list are mutable , can store any data types.\n"
      ],
      "metadata": {
        "id": "QQHxPoYH_75h"
      }
    },
    {
      "cell_type": "markdown",
      "source": [
        "7. How do tuples ensure data integrity in Python?\n",
        "> Being immutable,tuples ensure the dat remains unchanged,useful for read only data."
      ],
      "metadata": {
        "id": "42JOVFlZAUBS"
      }
    },
    {
      "cell_type": "markdown",
      "source": [
        "8. What is a hash table, and how does it relate to dictionaries in Python?\n",
        "> Pyton dictionaries aree implented using hash tables,allowing average lookup time."
      ],
      "metadata": {
        "id": "IRVMp1fOAnj-"
      }
    },
    {
      "cell_type": "markdown",
      "source": [
        "9.Can lists contain different data types in Python?\n",
        "> yes"
      ],
      "metadata": {
        "id": "EMmNBSxLBBVH"
      }
    },
    {
      "cell_type": "code",
      "source": [
        "a=[1,\"two\",3.0]\n",
        "a"
      ],
      "metadata": {
        "id": "v0Srg8HiBJLj"
      },
      "execution_count": null,
      "outputs": []
    },
    {
      "cell_type": "markdown",
      "source": [
        "10.P Explain why strings are immutable in Python?\n",
        "> For performance and security\n",
        ">>\n",
        "Allow safe sharing and interning"
      ],
      "metadata": {
        "id": "ZlGbYjyQBW-Y"
      }
    },
    {
      "cell_type": "markdown",
      "source": [
        "11.What advantages do dictionaries offer over lists for certain tasks?\n",
        "> dictionaries have fast key access , are better for mapping relationships."
      ],
      "metadata": {
        "id": "hu2b62GyBy0j"
      }
    },
    {
      "cell_type": "markdown",
      "source": [
        "12. Describe a scenario where using a tuple would be preferable over a list.\n",
        ">When data should not change like coordinates or configuration constants."
      ],
      "metadata": {
        "id": "oL4tqzHWCQMW"
      }
    },
    {
      "cell_type": "markdown",
      "source": [
        "13. How do sets handle duplicate values in Python?\n",
        "> Sets automatically deletes or removes duplicates."
      ],
      "metadata": {
        "id": "-xIkkQcxCl7D"
      }
    },
    {
      "cell_type": "markdown",
      "source": [
        "14. How does the “in” keyword work differently for lists and dictionaries?\n",
        ">list:\n",
        ">> \"in\" checks if element exist or not.\n",
        ">>\n",
        "dictionaries:\n",
        ">> \"in\" checks if key exist or not.\n"
      ],
      "metadata": {
        "id": "P11F0dIQDC4h"
      }
    },
    {
      "cell_type": "markdown",
      "source": [
        "15. Can you modify the elements of a tuple? Explain why or why not.\n",
        "> No we can't modify elements of tuple as they are immutable."
      ],
      "metadata": {
        "id": "WscIf5ddDrZB"
      }
    },
    {
      "cell_type": "markdown",
      "source": [
        "16. What is a nested dictionary, and give an example of its use case?\n",
        "> Nested dictionary isa dictionary where values themselves are dictionaries. it is useful in storing complex structure data like records or hierarchies.\n"
      ],
      "metadata": {
        "id": "EDl4-SF2D8d_"
      }
    },
    {
      "cell_type": "code",
      "source": [
        "student= {\"name\":\"john\",\"grades\":{\"maths:\",90,\"sci:\",98}}"
      ],
      "metadata": {
        "id": "5Z44_UJAE1k2"
      },
      "execution_count": null,
      "outputs": []
    },
    {
      "cell_type": "markdown",
      "source": [
        "17.  Describe the time complexity of accessing elements in a dictionary?\n",
        "> Accessing elements in pyton dictionary is very fast on average as it uses a hash table."
      ],
      "metadata": {
        "id": "NXR31LzeEw1a"
      }
    },
    {
      "cell_type": "markdown",
      "source": [
        "18. In what situations are lists preferred over dictionaries?\n",
        ">When order matters or intexing is needed."
      ],
      "metadata": {
        "id": "a7jWpFhAGV3Y"
      }
    },
    {
      "cell_type": "markdown",
      "source": [
        "19. Why are dictionaries considered unordered, and how does that affect data retrieval?\n",
        ">  dictionary did not maintain the order of insertion but still retrival is based on keys, not possible."
      ],
      "metadata": {
        "id": "mE4-oJSzGn6A"
      }
    },
    {
      "cell_type": "markdown",
      "source": [
        "20. Explain the difference between a list and a dictionary in terms of data retrieval.\n",
        "> list:\n",
        ">> it retrieve items by index , slower for searching values.\n",
        ">>\n",
        "dictionary:\n",
        ">> it retrieve items by key , which are faster ."
      ],
      "metadata": {
        "id": "sI87zfy4HRL_"
      }
    },
    {
      "cell_type": "markdown",
      "source": [
        "# ***PRACTICAL QUESTIONS***"
      ],
      "metadata": {
        "id": "_Pj57CT0H2Jw"
      }
    },
    {
      "cell_type": "code",
      "source": [
        ""
      ],
      "metadata": {
        "id": "9lNKmP-gH9fN"
      },
      "execution_count": null,
      "outputs": []
    },
    {
      "cell_type": "markdown",
      "source": [
        "1. Write a code to create a string with your name and print it."
      ],
      "metadata": {
        "id": "UfwKRbctIUFH"
      }
    },
    {
      "cell_type": "code",
      "source": [
        "print(\"amey\")\n"
      ],
      "metadata": {
        "colab": {
          "base_uri": "https://localhost:8080/"
        },
        "id": "SbTT7emdLT4B",
        "outputId": "7ce46b72-e3a4-4590-836a-fdea4e739bd6"
      },
      "execution_count": 36,
      "outputs": [
        {
          "output_type": "stream",
          "name": "stdout",
          "text": [
            "amey\n"
          ]
        }
      ]
    },
    {
      "cell_type": "markdown",
      "source": [
        " 2. Write a code to find the length of the string \"Hello World\""
      ],
      "metadata": {
        "id": "OQThq7dPIall"
      }
    },
    {
      "cell_type": "code",
      "source": [
        "print(len(\"Hello World\"))\n",
        "\n"
      ],
      "metadata": {
        "colab": {
          "base_uri": "https://localhost:8080/"
        },
        "id": "ZG5aDpVuLmcM",
        "outputId": "0bb22e2a-8612-4ab4-921c-ffdbed52b0dd"
      },
      "execution_count": 38,
      "outputs": [
        {
          "output_type": "stream",
          "name": "stdout",
          "text": [
            "11\n"
          ]
        }
      ]
    },
    {
      "cell_type": "markdown",
      "source": [
        "3. Write a code to slice the first 3 characters from the string \"Python Programming\""
      ],
      "metadata": {
        "id": "k-0VFe_kIhwM"
      }
    },
    {
      "cell_type": "code",
      "source": [
        "print(\"Python Programming\"[:3])\n"
      ],
      "metadata": {
        "colab": {
          "base_uri": "https://localhost:8080/"
        },
        "id": "cBeoQELELrV3",
        "outputId": "2e347050-9805-4a38-d6ea-a3cb130cd3d9"
      },
      "execution_count": 39,
      "outputs": [
        {
          "output_type": "stream",
          "name": "stdout",
          "text": [
            "Pyt\n"
          ]
        }
      ]
    },
    {
      "cell_type": "markdown",
      "source": [
        "4. Write a code to convert the string \"hello\" to uppercase?\n",
        ""
      ],
      "metadata": {
        "id": "j4ihJEs4ItEi"
      }
    },
    {
      "cell_type": "code",
      "source": [
        "print(\"hello\".upper())\n"
      ],
      "metadata": {
        "colab": {
          "base_uri": "https://localhost:8080/"
        },
        "id": "dVR2rt6aLwl4",
        "outputId": "f36428fe-6421-42db-fb22-cdcb743aafba"
      },
      "execution_count": 40,
      "outputs": [
        {
          "output_type": "stream",
          "name": "stdout",
          "text": [
            "HELLO\n"
          ]
        }
      ]
    },
    {
      "cell_type": "markdown",
      "source": [
        "5. Write a code to replace the word \"apple\" with \"orange\" in the string \"I like apple."
      ],
      "metadata": {
        "id": "mjNkETX3IyLp"
      }
    },
    {
      "cell_type": "code",
      "source": [
        "print(\"I like apple\".replace(\"apple\", \"orange\"))\n",
        "\n"
      ],
      "metadata": {
        "colab": {
          "base_uri": "https://localhost:8080/"
        },
        "id": "PcDJA4vbL26I",
        "outputId": "b14ec202-17c3-4840-d1bc-aea7727cee26"
      },
      "execution_count": 41,
      "outputs": [
        {
          "output_type": "stream",
          "name": "stdout",
          "text": [
            "I like orange\n"
          ]
        }
      ]
    },
    {
      "cell_type": "markdown",
      "source": [
        "6. Write a code to create a list with numbers 1 to 5 and print it.\n"
      ],
      "metadata": {
        "id": "Glcxh9QcI12U"
      }
    },
    {
      "cell_type": "code",
      "source": [
        "print([1, 2, 3, 4, 5])\n",
        "\n"
      ],
      "metadata": {
        "colab": {
          "base_uri": "https://localhost:8080/"
        },
        "id": "PZLQY8vyL9si",
        "outputId": "f05c3858-99af-41cb-a84f-58808463804c"
      },
      "execution_count": 42,
      "outputs": [
        {
          "output_type": "stream",
          "name": "stdout",
          "text": [
            "[1, 2, 3, 4, 5]\n"
          ]
        }
      ]
    },
    {
      "cell_type": "markdown",
      "source": [
        "7. Write a code to append the number 10 to the list [1, 2, 3, 4]\n"
      ],
      "metadata": {
        "id": "6wobVTmHI80b"
      }
    },
    {
      "cell_type": "code",
      "source": [
        "lst = [1, 2, 3, 4]\n",
        "lst.append(10)\n",
        "print(lst)\n"
      ],
      "metadata": {
        "colab": {
          "base_uri": "https://localhost:8080/"
        },
        "id": "kXxqzm_gMCdU",
        "outputId": "dfc36089-ba16-4694-cc19-2870506dd728"
      },
      "execution_count": 43,
      "outputs": [
        {
          "output_type": "stream",
          "name": "stdout",
          "text": [
            "[1, 2, 3, 4, 10]\n"
          ]
        }
      ]
    },
    {
      "cell_type": "markdown",
      "source": [
        "8. Write a code to remove the number 3 from the list [1, 2, 3, 4, 5]"
      ],
      "metadata": {
        "id": "b-5yztd4JCZx"
      }
    },
    {
      "cell_type": "code",
      "source": [
        "lst = [1, 2, 3, 4, 5]\n",
        "lst.remove(3)\n",
        "print(lst)\n"
      ],
      "metadata": {
        "colab": {
          "base_uri": "https://localhost:8080/"
        },
        "id": "KAqwG_89MHAd",
        "outputId": "6406880c-0db0-41ef-e324-fbcbd0b9f0c2"
      },
      "execution_count": 44,
      "outputs": [
        {
          "output_type": "stream",
          "name": "stdout",
          "text": [
            "[1, 2, 4, 5]\n"
          ]
        }
      ]
    },
    {
      "cell_type": "markdown",
      "source": [
        "9.  Write a code to access the second element in the list ['a', 'b', 'c', 'd']\n",
        ""
      ],
      "metadata": {
        "id": "Ztp2K9EaJJA9"
      }
    },
    {
      "cell_type": "code",
      "source": [
        "print(['a', 'b', 'c', 'd'][1])\n"
      ],
      "metadata": {
        "colab": {
          "base_uri": "https://localhost:8080/"
        },
        "id": "Dbn9yO44MM3q",
        "outputId": "bae2b04b-e6a4-4a2b-879f-9c79c6d3fe8b"
      },
      "execution_count": 45,
      "outputs": [
        {
          "output_type": "stream",
          "name": "stdout",
          "text": [
            "b\n"
          ]
        }
      ]
    },
    {
      "cell_type": "markdown",
      "source": [
        "10. Write a code to reverse the list [10, 20, 30, 40, 50]."
      ],
      "metadata": {
        "id": "XVZ2bb2qJPWC"
      }
    },
    {
      "cell_type": "code",
      "source": [
        "print([10, 20, 30, 40, 50][::-1])\n"
      ],
      "metadata": {
        "colab": {
          "base_uri": "https://localhost:8080/"
        },
        "id": "XsulzdteMSE1",
        "outputId": "d1926159-aef2-46a0-aa92-a3af6266222e"
      },
      "execution_count": 46,
      "outputs": [
        {
          "output_type": "stream",
          "name": "stdout",
          "text": [
            "[50, 40, 30, 20, 10]\n"
          ]
        }
      ]
    },
    {
      "cell_type": "markdown",
      "source": [
        "11. . Write a code to create a tuple with the elements 100, 200, 300 and print it.\n",
        "\n"
      ],
      "metadata": {
        "id": "oFnNllBNJRhk"
      }
    },
    {
      "cell_type": "code",
      "source": [
        "print((100, 200, 300))\n"
      ],
      "metadata": {
        "colab": {
          "base_uri": "https://localhost:8080/"
        },
        "id": "Zn--suAnMXfS",
        "outputId": "09a2407f-1060-45bc-f674-200a160871b4"
      },
      "execution_count": 16,
      "outputs": [
        {
          "output_type": "stream",
          "name": "stdout",
          "text": [
            "(100, 200, 300)\n"
          ]
        }
      ]
    },
    {
      "cell_type": "markdown",
      "source": [
        "12. Write a code to access the second-to-last element of the tuple ('red', 'green', 'blue', 'yellow').\n",
        "\n"
      ],
      "metadata": {
        "id": "NcFuevn9JfXl"
      }
    },
    {
      "cell_type": "code",
      "source": [
        "print(('red', 'green', 'blue', 'yellow')[-2])"
      ],
      "metadata": {
        "colab": {
          "base_uri": "https://localhost:8080/"
        },
        "id": "zuCpekZfMb7h",
        "outputId": "6b1fe196-f314-4b20-e098-fcd9abbc17c4"
      },
      "execution_count": 17,
      "outputs": [
        {
          "output_type": "stream",
          "name": "stdout",
          "text": [
            "blue\n"
          ]
        }
      ]
    },
    {
      "cell_type": "code",
      "source": [],
      "metadata": {
        "id": "jMKvWVSOMgh6"
      },
      "execution_count": 46,
      "outputs": []
    },
    {
      "cell_type": "markdown",
      "source": [
        "13. Write a code to find the minimum number in the tuple (10, 20, 5, 15).\n",
        "\n"
      ],
      "metadata": {
        "id": "lQDgrXPMJp1S"
      }
    },
    {
      "cell_type": "code",
      "source": [
        "print(min((10, 20, 5, 15)))\n",
        "\n"
      ],
      "metadata": {
        "colab": {
          "base_uri": "https://localhost:8080/"
        },
        "id": "snpCDZtwMh2w",
        "outputId": "61dafa0f-cd6c-44eb-e038-423eaf4be0f7"
      },
      "execution_count": 47,
      "outputs": [
        {
          "output_type": "stream",
          "name": "stdout",
          "text": [
            "5\n"
          ]
        }
      ]
    },
    {
      "cell_type": "markdown",
      "source": [
        "14. Write a code to find the index of the element \"cat\" in the tuple ('dog', 'cat', 'rabbit').\n",
        "\n"
      ],
      "metadata": {
        "id": "3whxy63HJsEu"
      }
    },
    {
      "cell_type": "code",
      "source": [
        "print(('dog', 'cat', 'rabbit').index(\"cat\"))\n",
        "\n"
      ],
      "metadata": {
        "colab": {
          "base_uri": "https://localhost:8080/"
        },
        "id": "ECaCjXTGMnkL",
        "outputId": "8275feb2-4067-43f4-a68b-ab140dfdcb98"
      },
      "execution_count": 19,
      "outputs": [
        {
          "output_type": "stream",
          "name": "stdout",
          "text": [
            "1\n"
          ]
        }
      ]
    },
    {
      "cell_type": "markdown",
      "source": [
        "15. Write a code to create a tuple containing three different fruits and check if \"kiwi\" is in it."
      ],
      "metadata": {
        "id": "ztkr4sZkJubp"
      }
    },
    {
      "cell_type": "code",
      "source": [
        "fruits = ('apple', 'banana', 'mango')\n",
        "print(\"kiwi\" in fruits)\n"
      ],
      "metadata": {
        "colab": {
          "base_uri": "https://localhost:8080/"
        },
        "id": "JYUjMzmqMu_x",
        "outputId": "8765ebbc-0145-47be-943a-fd033f030917"
      },
      "execution_count": 20,
      "outputs": [
        {
          "output_type": "stream",
          "name": "stdout",
          "text": [
            "False\n"
          ]
        }
      ]
    },
    {
      "cell_type": "markdown",
      "source": [
        "16. Write a code to create a set with the elements 'a', 'b', 'c' and print it.\n",
        "\n"
      ],
      "metadata": {
        "id": "q2CvsPuoJvnY"
      }
    },
    {
      "cell_type": "code",
      "source": [
        "fruits = ('apple', 'banana', 'mango')\n",
        "print(\"kiwi\" in fruits)\n"
      ],
      "metadata": {
        "colab": {
          "base_uri": "https://localhost:8080/"
        },
        "id": "VPG_tZD8M12z",
        "outputId": "6d8ae100-d66f-4582-a5ba-6576ee59902a"
      },
      "execution_count": 21,
      "outputs": [
        {
          "output_type": "stream",
          "name": "stdout",
          "text": [
            "False\n"
          ]
        }
      ]
    },
    {
      "cell_type": "markdown",
      "source": [
        "17. Write a code to clear all elements from the set {1, 2, 3, 4, 5}.\n",
        "\n"
      ],
      "metadata": {
        "id": "uaFY5MhBJ9gi"
      }
    },
    {
      "cell_type": "code",
      "source": [
        "s = {1, 2, 3, 4, 5}\n",
        "s.clear()\n",
        "print(s)\n"
      ],
      "metadata": {
        "colab": {
          "base_uri": "https://localhost:8080/"
        },
        "id": "XKJhV3dSM9OL",
        "outputId": "20eacb21-22e4-4f54-fd91-686702e31622"
      },
      "execution_count": 22,
      "outputs": [
        {
          "output_type": "stream",
          "name": "stdout",
          "text": [
            "set()\n"
          ]
        }
      ]
    },
    {
      "cell_type": "markdown",
      "source": [
        "18. Write a code to remove the element 4 from the set {1, 2, 3, 4}.\n",
        "\n"
      ],
      "metadata": {
        "id": "CcmnDXbZKB4Y"
      }
    },
    {
      "cell_type": "code",
      "source": [
        "s = {1, 2, 3, 4}\n",
        "s.remove(4)\n",
        "print(s)\n"
      ],
      "metadata": {
        "colab": {
          "base_uri": "https://localhost:8080/"
        },
        "id": "tQq8Hm8MNCPZ",
        "outputId": "1096c164-e456-440e-a814-52880ee83359"
      },
      "execution_count": 23,
      "outputs": [
        {
          "output_type": "stream",
          "name": "stdout",
          "text": [
            "{1, 2, 3}\n"
          ]
        }
      ]
    },
    {
      "cell_type": "markdown",
      "source": [
        "19. Write a code to find the union of two sets {1, 2, 3} and {3, 4, 5}.\n",
        "\n"
      ],
      "metadata": {
        "id": "_0sm14TMKETP"
      }
    },
    {
      "cell_type": "code",
      "source": [
        "print({1, 2, 3}.union({3, 4, 5}))"
      ],
      "metadata": {
        "colab": {
          "base_uri": "https://localhost:8080/"
        },
        "id": "gyUrQdSaNJIV",
        "outputId": "ac9d0f96-8925-4dc6-c2ab-633f51d271e5"
      },
      "execution_count": 24,
      "outputs": [
        {
          "output_type": "stream",
          "name": "stdout",
          "text": [
            "{1, 2, 3, 4, 5}\n"
          ]
        }
      ]
    },
    {
      "cell_type": "markdown",
      "source": [
        "\n",
        "\n",
        "20. Write a code to find the intersection of two sets {1, 2, 3} and {2, 3, 4}.\n",
        "\n"
      ],
      "metadata": {
        "id": "t3K4LQr1KHeN"
      }
    },
    {
      "cell_type": "code",
      "source": [
        "print({1, 2, 3}.intersection({2, 3, 4}))\n"
      ],
      "metadata": {
        "colab": {
          "base_uri": "https://localhost:8080/"
        },
        "id": "Sys0GcRSNRDS",
        "outputId": "05a61dd4-0e3e-424d-b171-691abd33e731"
      },
      "execution_count": 25,
      "outputs": [
        {
          "output_type": "stream",
          "name": "stdout",
          "text": [
            "{2, 3}\n"
          ]
        }
      ]
    },
    {
      "cell_type": "markdown",
      "source": [
        "21. Write a code to create a dictionary with the keys \"name\", \"age\", and \"city\", and print it.\n",
        "\n"
      ],
      "metadata": {
        "id": "4Pd8gePXKOW4"
      }
    },
    {
      "cell_type": "code",
      "source": [
        "print({\"name\": \"John\", \"age\": 25, \"city\": \"New York\"})\n",
        "\n"
      ],
      "metadata": {
        "colab": {
          "base_uri": "https://localhost:8080/"
        },
        "id": "BPDVBCiJNVWP",
        "outputId": "12da1660-9756-42f2-9d11-138c24014eb2"
      },
      "execution_count": 26,
      "outputs": [
        {
          "output_type": "stream",
          "name": "stdout",
          "text": [
            "{'name': 'John', 'age': 25, 'city': 'New York'}\n"
          ]
        }
      ]
    },
    {
      "cell_type": "markdown",
      "source": [
        "22. Write a code to add a new key-value pair \"country\": \"USA\" to the dictionary {'name': 'John', 'age': 25}.\n",
        "\n"
      ],
      "metadata": {
        "id": "ryW8G1YpKRR0"
      }
    },
    {
      "cell_type": "code",
      "source": [
        "d = {'name': 'John', 'age': 25}\n",
        "d['country'] = \"USA\"\n",
        "print(d)\n"
      ],
      "metadata": {
        "colab": {
          "base_uri": "https://localhost:8080/"
        },
        "id": "aic8A1jiNY13",
        "outputId": "b295ea4e-02f2-441e-a5dd-8eb34e0ed258"
      },
      "execution_count": 27,
      "outputs": [
        {
          "output_type": "stream",
          "name": "stdout",
          "text": [
            "{'name': 'John', 'age': 25, 'country': 'USA'}\n"
          ]
        }
      ]
    },
    {
      "cell_type": "markdown",
      "source": [
        "\n",
        "\n",
        "23. Write a code to access the value associated with the key \"name\" in the dictionary {'name': 'Alice', 'age': 30}.\n",
        "\n"
      ],
      "metadata": {
        "id": "oeUwQ10EKU3j"
      }
    },
    {
      "cell_type": "code",
      "source": [
        "print({'name': 'Alice', 'age': 30}['name'])\n"
      ],
      "metadata": {
        "colab": {
          "base_uri": "https://localhost:8080/"
        },
        "id": "872sP_S5Nfh_",
        "outputId": "470ef123-e78d-4963-fa13-28645c0ea17f"
      },
      "execution_count": 28,
      "outputs": [
        {
          "output_type": "stream",
          "name": "stdout",
          "text": [
            "Alice\n"
          ]
        }
      ]
    },
    {
      "cell_type": "markdown",
      "source": [
        "\n",
        "\n",
        "24. Write a code to remove the key \"age\" from the dictionary {'name': 'Bob', 'age': 22, 'city': 'New York'}.\n",
        "\n"
      ],
      "metadata": {
        "id": "BPdk9JF9KaiI"
      }
    },
    {
      "cell_type": "code",
      "source": [
        "d = {'name': 'Bob', 'age': 22, 'city': 'New York'}\n",
        "d.pop(\"age\")\n",
        "print(d)\n"
      ],
      "metadata": {
        "colab": {
          "base_uri": "https://localhost:8080/"
        },
        "id": "CPRtsq36Nkak",
        "outputId": "09cf55b2-6e77-43d3-b159-582a84553cd4"
      },
      "execution_count": 29,
      "outputs": [
        {
          "output_type": "stream",
          "name": "stdout",
          "text": [
            "{'name': 'Bob', 'city': 'New York'}\n"
          ]
        }
      ]
    },
    {
      "cell_type": "markdown",
      "source": [
        "25. Write a code to check if the key \"city\" exists in the dictionary {'name': 'Alice', 'city': 'Paris'}.\n",
        "\n"
      ],
      "metadata": {
        "id": "6XPH0D7sKhSl"
      }
    },
    {
      "cell_type": "code",
      "source": [
        "print(\"city\" in {'name': 'Alice', 'city': 'Paris'})\n",
        "\n"
      ],
      "metadata": {
        "colab": {
          "base_uri": "https://localhost:8080/"
        },
        "id": "wI2rC1OFNoK7",
        "outputId": "052b8a8f-ba4f-4f41-abef-77f6b35dee62"
      },
      "execution_count": 30,
      "outputs": [
        {
          "output_type": "stream",
          "name": "stdout",
          "text": [
            "True\n"
          ]
        }
      ]
    },
    {
      "cell_type": "markdown",
      "source": [
        "\n",
        "\n",
        "26. Write a code to create a list, a tuple, and a dictionary, and print them all.\n",
        "\n"
      ],
      "metadata": {
        "id": "fx1VVSjgKmEW"
      }
    },
    {
      "cell_type": "code",
      "source": [
        "print([1, 2, 3], (4, 5, 6), {\"a\": 1, \"b\": 2})\n"
      ],
      "metadata": {
        "colab": {
          "base_uri": "https://localhost:8080/"
        },
        "id": "R9i46Ps6NuhZ",
        "outputId": "8ec7a77c-5c49-43f3-8faf-6ed908a0611f"
      },
      "execution_count": 31,
      "outputs": [
        {
          "output_type": "stream",
          "name": "stdout",
          "text": [
            "[1, 2, 3] (4, 5, 6) {'a': 1, 'b': 2}\n"
          ]
        }
      ]
    },
    {
      "cell_type": "markdown",
      "source": [
        "27. Write a code to create a list of 5 random numbers between 1 and 100, sort it in ascending order, and print the\n",
        "result.(replaced)\n",
        "\n"
      ],
      "metadata": {
        "id": "34H2iyAwKrKB"
      }
    },
    {
      "cell_type": "code",
      "source": [
        "import random\n",
        "lst = random.sample(range(1, 101), 5)\n",
        "lst.sort()\n",
        "print(lst)\n",
        "\n"
      ],
      "metadata": {
        "colab": {
          "base_uri": "https://localhost:8080/"
        },
        "id": "vq1UCXXdN6Ii",
        "outputId": "c00e1921-860a-4137-e46b-54a5ff94e889"
      },
      "execution_count": 32,
      "outputs": [
        {
          "output_type": "stream",
          "name": "stdout",
          "text": [
            "[17, 31, 73, 75, 95]\n"
          ]
        }
      ]
    },
    {
      "cell_type": "markdown",
      "source": [
        "28. Write a code to create a list with strings and print the element at the third index.\n",
        "\n"
      ],
      "metadata": {
        "id": "pLucxjvMKtko"
      }
    },
    {
      "cell_type": "code",
      "source": [
        "lst = [\"one\", \"two\", \"three\", \"four\", \"five\"]\n",
        "print(lst[3])"
      ],
      "metadata": {
        "colab": {
          "base_uri": "https://localhost:8080/"
        },
        "id": "xTRVGbWQOAPN",
        "outputId": "8b1902d3-7bc7-4fea-d059-a5d1f8e98463"
      },
      "execution_count": 33,
      "outputs": [
        {
          "output_type": "stream",
          "name": "stdout",
          "text": [
            "four\n"
          ]
        }
      ]
    },
    {
      "cell_type": "markdown",
      "source": [
        "29. Write a code to combine two dictionaries into one and print the result."
      ],
      "metadata": {
        "id": "s8TvL2KHKwbY"
      }
    },
    {
      "cell_type": "code",
      "source": [
        "d1 = {\"a\": 1, \"b\": 2}\n",
        "d2 = {\"c\": 3, \"d\": 4}\n",
        "combined = {**d1, **d2}\n",
        "print(combined)\n",
        "\n"
      ],
      "metadata": {
        "colab": {
          "base_uri": "https://localhost:8080/"
        },
        "id": "gnYiNFcqOEy_",
        "outputId": "e10747d2-bf60-482f-d086-f0f0113e5224"
      },
      "execution_count": 34,
      "outputs": [
        {
          "output_type": "stream",
          "name": "stdout",
          "text": [
            "{'a': 1, 'b': 2, 'c': 3, 'd': 4}\n"
          ]
        }
      ]
    },
    {
      "cell_type": "markdown",
      "source": [
        "30. Write a code to convert a list of strings into a set."
      ],
      "metadata": {
        "id": "yRtQz0nRK0Qs"
      }
    },
    {
      "cell_type": "code",
      "source": [
        "st = [\"a\", \"b\", \"c\", \"a\"]\n",
        "print(set(lst))\n"
      ],
      "metadata": {
        "colab": {
          "base_uri": "https://localhost:8080/"
        },
        "id": "4le9ML1YOKZb",
        "outputId": "634920a9-0b83-4994-a72b-b7ecba796dd5"
      },
      "execution_count": 35,
      "outputs": [
        {
          "output_type": "stream",
          "name": "stdout",
          "text": [
            "{'five', 'two', 'four', 'one', 'three'}\n"
          ]
        }
      ]
    }
  ]
}